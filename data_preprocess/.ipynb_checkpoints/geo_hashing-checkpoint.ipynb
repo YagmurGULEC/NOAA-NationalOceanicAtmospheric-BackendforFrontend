{
 "cells": [
  {
   "cell_type": "code",
   "execution_count": 3,
   "id": "e7a24fb1-a8d7-4393-ac90-29350e506994",
   "metadata": {},
   "outputs": [],
   "source": [
    "import geohash2\n",
    "import pandas as pd "
   ]
  },
  {
   "cell_type": "code",
   "execution_count": 4,
   "id": "9f3ada3c-5628-4834-ba0e-6cb3f1eb9088",
   "metadata": {},
   "outputs": [],
   "source": [
    "df=pd.read_csv('output_stations.csv')\n"
   ]
  },
  {
   "cell_type": "code",
   "execution_count": 5,
   "id": "feef04ed-fcec-45a5-9866-b4f3aeeb1c45",
   "metadata": {},
   "outputs": [
    {
     "data": {
      "text/html": [
       "<div>\n",
       "<style scoped>\n",
       "    .dataframe tbody tr th:only-of-type {\n",
       "        vertical-align: middle;\n",
       "    }\n",
       "\n",
       "    .dataframe tbody tr th {\n",
       "        vertical-align: top;\n",
       "    }\n",
       "\n",
       "    .dataframe thead th {\n",
       "        text-align: right;\n",
       "    }\n",
       "</style>\n",
       "<table border=\"1\" class=\"dataframe\">\n",
       "  <thead>\n",
       "    <tr style=\"text-align: right;\">\n",
       "      <th></th>\n",
       "      <th>id</th>\n",
       "      <th>name</th>\n",
       "      <th>geom</th>\n",
       "    </tr>\n",
       "  </thead>\n",
       "  <tbody>\n",
       "    <tr>\n",
       "      <th>0</th>\n",
       "      <td>GHCND:US1MNCS0014</td>\n",
       "      <td>PINE RIVER 2.7 NE, MN US</td>\n",
       "      <td>SRID=4326;POINT(-94.360954284668 46.751579284668)</td>\n",
       "    </tr>\n",
       "    <tr>\n",
       "      <th>1</th>\n",
       "      <td>GHCND:US1MNCS0015</td>\n",
       "      <td>PINE RIVER 5.6 SSW, MN US</td>\n",
       "      <td>SRID=4326;POINT(-94.43287 46.645092)</td>\n",
       "    </tr>\n",
       "    <tr>\n",
       "      <th>2</th>\n",
       "      <td>GHCND:US1MNCS0016</td>\n",
       "      <td>WALKER 7.6 ESE, MN US</td>\n",
       "      <td>SRID=4326;POINT(-94.446857 47.032891)</td>\n",
       "    </tr>\n",
       "    <tr>\n",
       "      <th>3</th>\n",
       "      <td>GHCND:US1MNCS0018</td>\n",
       "      <td>HACKENSACK 7.0 ENE, MN US</td>\n",
       "      <td>SRID=4326;POINT(-94.3727 46.9558)</td>\n",
       "    </tr>\n",
       "    <tr>\n",
       "      <th>4</th>\n",
       "      <td>GHCND:US1MNCS0023</td>\n",
       "      <td>HACKENSACK 7.1 ENE, MN US</td>\n",
       "      <td>SRID=4326;POINT(-94.375139 46.961667)</td>\n",
       "    </tr>\n",
       "  </tbody>\n",
       "</table>\n",
       "</div>"
      ],
      "text/plain": [
       "                  id                       name  \\\n",
       "0  GHCND:US1MNCS0014   PINE RIVER 2.7 NE, MN US   \n",
       "1  GHCND:US1MNCS0015  PINE RIVER 5.6 SSW, MN US   \n",
       "2  GHCND:US1MNCS0016      WALKER 7.6 ESE, MN US   \n",
       "3  GHCND:US1MNCS0018  HACKENSACK 7.0 ENE, MN US   \n",
       "4  GHCND:US1MNCS0023  HACKENSACK 7.1 ENE, MN US   \n",
       "\n",
       "                                                geom  \n",
       "0  SRID=4326;POINT(-94.360954284668 46.751579284668)  \n",
       "1               SRID=4326;POINT(-94.43287 46.645092)  \n",
       "2              SRID=4326;POINT(-94.446857 47.032891)  \n",
       "3                  SRID=4326;POINT(-94.3727 46.9558)  \n",
       "4              SRID=4326;POINT(-94.375139 46.961667)  "
      ]
     },
     "execution_count": 5,
     "metadata": {},
     "output_type": "execute_result"
    }
   ],
   "source": [
    "df.head()"
   ]
  },
  {
   "cell_type": "code",
   "execution_count": 7,
   "id": "b8ca12e9-1ef3-411b-a235-5e7e1a92a8c4",
   "metadata": {},
   "outputs": [
    {
     "data": {
      "text/plain": [
       "0    SRID=4326;POINT(-94.360954284668 46.751579284668)\n",
       "1                 SRID=4326;POINT(-94.43287 46.645092)\n",
       "2                SRID=4326;POINT(-94.446857 47.032891)\n",
       "3                    SRID=4326;POINT(-94.3727 46.9558)\n",
       "4                SRID=4326;POINT(-94.375139 46.961667)\n",
       "Name: geom, dtype: object"
      ]
     },
     "execution_count": 7,
     "metadata": {},
     "output_type": "execute_result"
    }
   ],
   "source": [
    "new_df=df.copy()\n"
   ]
  },
  {
   "cell_type": "code",
   "execution_count": null,
   "id": "8fded036-8445-4be4-b6a2-cf0280f4e70c",
   "metadata": {},
   "outputs": [],
   "source": []
  }
 ],
 "metadata": {
  "kernelspec": {
   "display_name": "Python 3 (ipykernel)",
   "language": "python",
   "name": "python3"
  },
  "language_info": {
   "codemirror_mode": {
    "name": "ipython",
    "version": 3
   },
   "file_extension": ".py",
   "mimetype": "text/x-python",
   "name": "python",
   "nbconvert_exporter": "python",
   "pygments_lexer": "ipython3",
   "version": "3.12.3"
  }
 },
 "nbformat": 4,
 "nbformat_minor": 5
}
