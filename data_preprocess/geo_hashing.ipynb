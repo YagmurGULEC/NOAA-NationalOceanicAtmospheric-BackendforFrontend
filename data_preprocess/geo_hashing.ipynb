{
 "cells": [
  {
   "cell_type": "code",
   "execution_count": 5,
   "id": "e7a24fb1-a8d7-4393-ac90-29350e506994",
   "metadata": {},
   "outputs": [],
   "source": [
    "import geohash2\n",
    "import pandas as pd \n",
    "import re"
   ]
  },
  {
   "cell_type": "code",
   "execution_count": 2,
   "id": "9f3ada3c-5628-4834-ba0e-6cb3f1eb9088",
   "metadata": {},
   "outputs": [],
   "source": [
    "df=pd.read_csv('output_stations.csv')\n"
   ]
  },
  {
   "cell_type": "code",
   "execution_count": 3,
   "id": "feef04ed-fcec-45a5-9866-b4f3aeeb1c45",
   "metadata": {},
   "outputs": [
    {
     "data": {
      "text/html": [
       "<div>\n",
       "<style scoped>\n",
       "    .dataframe tbody tr th:only-of-type {\n",
       "        vertical-align: middle;\n",
       "    }\n",
       "\n",
       "    .dataframe tbody tr th {\n",
       "        vertical-align: top;\n",
       "    }\n",
       "\n",
       "    .dataframe thead th {\n",
       "        text-align: right;\n",
       "    }\n",
       "</style>\n",
       "<table border=\"1\" class=\"dataframe\">\n",
       "  <thead>\n",
       "    <tr style=\"text-align: right;\">\n",
       "      <th></th>\n",
       "      <th>id</th>\n",
       "      <th>name</th>\n",
       "      <th>geom</th>\n",
       "    </tr>\n",
       "  </thead>\n",
       "  <tbody>\n",
       "    <tr>\n",
       "      <th>0</th>\n",
       "      <td>GHCND:US1MNCS0014</td>\n",
       "      <td>PINE RIVER 2.7 NE, MN US</td>\n",
       "      <td>SRID=4326;POINT(-94.360954284668 46.751579284668)</td>\n",
       "    </tr>\n",
       "    <tr>\n",
       "      <th>1</th>\n",
       "      <td>GHCND:US1MNCS0015</td>\n",
       "      <td>PINE RIVER 5.6 SSW, MN US</td>\n",
       "      <td>SRID=4326;POINT(-94.43287 46.645092)</td>\n",
       "    </tr>\n",
       "    <tr>\n",
       "      <th>2</th>\n",
       "      <td>GHCND:US1MNCS0016</td>\n",
       "      <td>WALKER 7.6 ESE, MN US</td>\n",
       "      <td>SRID=4326;POINT(-94.446857 47.032891)</td>\n",
       "    </tr>\n",
       "    <tr>\n",
       "      <th>3</th>\n",
       "      <td>GHCND:US1MNCS0018</td>\n",
       "      <td>HACKENSACK 7.0 ENE, MN US</td>\n",
       "      <td>SRID=4326;POINT(-94.3727 46.9558)</td>\n",
       "    </tr>\n",
       "    <tr>\n",
       "      <th>4</th>\n",
       "      <td>GHCND:US1MNCS0023</td>\n",
       "      <td>HACKENSACK 7.1 ENE, MN US</td>\n",
       "      <td>SRID=4326;POINT(-94.375139 46.961667)</td>\n",
       "    </tr>\n",
       "  </tbody>\n",
       "</table>\n",
       "</div>"
      ],
      "text/plain": [
       "                  id                       name  \\\n",
       "0  GHCND:US1MNCS0014   PINE RIVER 2.7 NE, MN US   \n",
       "1  GHCND:US1MNCS0015  PINE RIVER 5.6 SSW, MN US   \n",
       "2  GHCND:US1MNCS0016      WALKER 7.6 ESE, MN US   \n",
       "3  GHCND:US1MNCS0018  HACKENSACK 7.0 ENE, MN US   \n",
       "4  GHCND:US1MNCS0023  HACKENSACK 7.1 ENE, MN US   \n",
       "\n",
       "                                                geom  \n",
       "0  SRID=4326;POINT(-94.360954284668 46.751579284668)  \n",
       "1               SRID=4326;POINT(-94.43287 46.645092)  \n",
       "2              SRID=4326;POINT(-94.446857 47.032891)  \n",
       "3                  SRID=4326;POINT(-94.3727 46.9558)  \n",
       "4              SRID=4326;POINT(-94.375139 46.961667)  "
      ]
     },
     "execution_count": 3,
     "metadata": {},
     "output_type": "execute_result"
    }
   ],
   "source": [
    "df.head()"
   ]
  },
  {
   "cell_type": "code",
   "execution_count": 4,
   "id": "b8ca12e9-1ef3-411b-a235-5e7e1a92a8c4",
   "metadata": {},
   "outputs": [],
   "source": [
    "new_df=df.copy()\n"
   ]
  },
  {
   "cell_type": "code",
   "execution_count": null,
   "id": "8fded036-8445-4be4-b6a2-cf0280f4e70c",
   "metadata": {},
   "outputs": [
    {
     "ename": "NameError",
     "evalue": "name 'x' is not defined",
     "output_type": "error",
     "traceback": [
      "\u001b[31m---------------------------------------------------------------------------\u001b[39m",
      "\u001b[31mNameError\u001b[39m                                 Traceback (most recent call last)",
      "\u001b[36mCell\u001b[39m\u001b[36m \u001b[39m\u001b[32mIn[21]\u001b[39m\u001b[32m, line 10\u001b[39m\n\u001b[32m      6\u001b[39m new_df[[\u001b[33m'\u001b[39m\u001b[33mlongitude\u001b[39m\u001b[33m'\u001b[39m, \u001b[33m'\u001b[39m\u001b[33mlatitude\u001b[39m\u001b[33m'\u001b[39m]] = new_df[\u001b[33m'\u001b[39m\u001b[33mgeom\u001b[39m\u001b[33m'\u001b[39m].str.extract(pattern)\n\u001b[32m      7\u001b[39m \u001b[38;5;66;03m# Convert to Decimal to maintain full precision\u001b[39;00m\n\u001b[32m---> \u001b[39m\u001b[32m10\u001b[39m new_df[[\u001b[33m'\u001b[39m\u001b[33mlongitude\u001b[39m\u001b[33m'\u001b[39m, \u001b[33m'\u001b[39m\u001b[33mlatitude\u001b[39m\u001b[33m'\u001b[39m]] = new_df[[\u001b[33m'\u001b[39m\u001b[33mlongitude\u001b[39m\u001b[33m'\u001b[39m, \u001b[33m'\u001b[39m\u001b[33mlatitude\u001b[39m\u001b[33m'\u001b[39m]].apply(\u001b[38;5;28;01mlambda\u001b[39;00m x: Decimal(x.longitude),Decimal(\u001b[43mx\u001b[49m.latitude), axis=\u001b[32m1\u001b[39m)\n\u001b[32m     13\u001b[39m new_df.head()\n",
      "\u001b[31mNameError\u001b[39m: name 'x' is not defined"
     ]
    }
   ],
   "source": [
    "from decimal import Decimal\n",
    "\n",
    "# Regular expression to extract longitude and latitude\n",
    "pattern = r'POINT\\((-?\\d+\\.\\d*) (-?\\d+\\.\\d*)\\)'\n",
    "# Apply regex extraction to create new columns for longitude and latitude\n",
    "new_df[['longitude', 'latitude']] = new_df['geom'].str.extract(pattern)\n",
    "# Convert to Decimal to maintain full precision\n",
    "\n",
    "\n",
    "new_df['longitude'] = new_df['longitude'].apply(lambda x: Decimal(x), axis=1)\n",
    "\n",
    "\n",
    "new_df.head()"
   ]
  },
  {
   "cell_type": "code",
   "execution_count": 11,
   "id": "00de4745",
   "metadata": {},
   "outputs": [
    {
     "name": "stdout",
     "output_type": "stream",
     "text": [
      "154115\n"
     ]
    }
   ],
   "source": [
    "new_df['geohash'] = new_df.apply(lambda x: geohash2.encode(x.latitude, x.longitude, precision=12), axis=1)\n",
    "\n",
    "geohash_count = new_df['geohash'].value_counts()\n",
    "geohash_count.head()\n",
    "print (len(new_df))"
   ]
  }
 ],
 "metadata": {
  "kernelspec": {
   "display_name": "Python 3 (ipykernel)",
   "language": "python",
   "name": "python3"
  },
  "language_info": {
   "codemirror_mode": {
    "name": "ipython",
    "version": 3
   },
   "file_extension": ".py",
   "mimetype": "text/x-python",
   "name": "python",
   "nbconvert_exporter": "python",
   "pygments_lexer": "ipython3",
   "version": "3.12.3"
  }
 },
 "nbformat": 4,
 "nbformat_minor": 5
}
