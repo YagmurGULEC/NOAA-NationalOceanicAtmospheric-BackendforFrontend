{
 "cells": [
  {
   "cell_type": "code",
   "execution_count": 2,
   "metadata": {},
   "outputs": [],
   "source": [
    "import asyncio\n",
    "import aiofiles\n",
    "import glob\n",
    "import json\n",
    "import csv\n",
    "import os\n",
    "import random\n",
    "import pandas as pd"
   ]
  },
  {
   "cell_type": "code",
   "execution_count": null,
   "metadata": {},
   "outputs": [
    {
     "name": "stdout",
     "output_type": "stream",
     "text": [
      "1542 JSON files found.\n",
      "✅ all_stations.json written.\n"
     ]
    },
    {
     "name": "stderr",
     "output_type": "stream",
     "text": [
      "IOPub data rate exceeded.\n",
      "The Jupyter server will temporarily stop sending output\n",
      "to the client in order to avoid crashing it.\n",
      "To change this limit, set the config variable\n",
      "`--ServerApp.iopub_data_rate_limit`.\n",
      "\n",
      "Current values:\n",
      "ServerApp.iopub_data_rate_limit=1000000.0 (bytes/sec)\n",
      "ServerApp.rate_limit_window=3.0 (secs)\n",
      "\n"
     ]
    }
   ],
   "source": [
    "semaphore = asyncio.Semaphore(50)\n",
    "async def read_json_file(file):\n",
    "    \"\"\"Read JSON files and extract required fields.\"\"\"\n",
    "    async with semaphore:\n",
    "        async with aiofiles.open(file, \"r\", encoding=\"utf-8\") as f:\n",
    "            try:\n",
    "                data = json.loads(await f.read())\n",
    "                try:\n",
    "                    results=data.get(\"results\", [])\n",
    "                    # processed_data = []\n",
    "                    # for res in results:\n",
    "                    #     try:\n",
    "                    #         station_id = res[\"id\"]\n",
    "                    #         name = res[\"name\"]\n",
    "                    #         latitude = res[\"latitude\"]\n",
    "                    #         longitude = res[\"longitude\"]\n",
    "                    #         geom = f\"SRID=4326;POINT({longitude} {latitude})\"\n",
    "                    #         processed_data.append((station_id, name, geom, latitude, longitude))\n",
    "                    #     except KeyError:\n",
    "                    #         print(f\"⚠️ Missing fields in {file}: {res}\")\n",
    "                \n",
    "                    return results\n",
    "\n",
    "                except KeyError:\n",
    "                    print(f\"⚠️ Missing 'results' field in {file}\")\n",
    "                    return None\n",
    "\n",
    "            except json.JSONDecodeError:\n",
    "                print(f\"❌ Error parsing {file}\")\n",
    "                return None\n",
    "async def write_json_file(file, data):\n",
    "    \"\"\"Write JSON files asynchronously.\"\"\"\n",
    "    async with semaphore:\n",
    "        async with aiofiles.open(file, \"w\", encoding=\"utf-8\") as f:\n",
    "            await f.write(json.dumps(data, indent=4, ensure_ascii=False))\n",
    "            print(f\"✅ {file} written.\")\n",
    "            return True\n",
    "\n",
    "async def process_all_files(files,output_file):\n",
    "    \"\"\"Process all JSON files asynchronously.\"\"\"\n",
    "    tasks = [read_json_file(file) for file in files]\n",
    "    results = await asyncio.gather(*tasks)\n",
    "    all_results = [item for sublist in results for item in sublist]\n",
    "    await write_json_file(output_file, all_results)\n",
    "    return all_results\n",
    "\n",
    "\n",
    "\n",
    "async def main():\n",
    "    all_json_files = glob.glob('./api_responses/*.json')\n",
    "    print(\"{} JSON files found.\".format(len(all_json_files)))\n",
    "    results=await process_all_files(\"all_stations.json\",all_json_files)\n",
    "    with open('all_stations.json', 'r') as f:\n",
    "        data=json.load(f)\n",
    "        df=pd.DataFrame(data)\n",
    "        print (df.head())\n",
    "        print (df.shape())\n",
    "    \n",
    "\n",
    "\n",
    "\n",
    "await main()\n"
   ]
  }
 ],
 "metadata": {
  "kernelspec": {
   "display_name": "Python 3 (ipykernel)",
   "language": "python",
   "name": "python3"
  },
  "language_info": {
   "codemirror_mode": {
    "name": "ipython",
    "version": 3
   },
   "file_extension": ".py",
   "mimetype": "text/x-python",
   "name": "python",
   "nbconvert_exporter": "python",
   "pygments_lexer": "ipython3",
   "version": "3.12.3"
  }
 },
 "nbformat": 4,
 "nbformat_minor": 2
}
