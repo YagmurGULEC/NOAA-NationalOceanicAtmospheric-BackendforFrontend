{
 "cells": [
  {
   "cell_type": "code",
   "execution_count": 2,
   "metadata": {},
   "outputs": [],
   "source": [
    "import asyncio\n",
    "import aiofiles\n",
    "import glob\n",
    "import json\n",
    "import csv\n",
    "import os\n",
    "import random\n",
    "import pandas as pd"
   ]
  },
  {
   "cell_type": "code",
   "execution_count": 3,
   "metadata": {},
   "outputs": [
    {
     "name": "stdout",
     "output_type": "stream",
     "text": [
      "0 JSON files found.\n"
     ]
    },
    {
     "ename": "FileNotFoundError",
     "evalue": "[Errno 2] No such file or directory: 'a'",
     "output_type": "error",
     "traceback": [
      "\u001b[31m---------------------------------------------------------------------------\u001b[39m",
      "\u001b[31mFileNotFoundError\u001b[39m                         Traceback (most recent call last)",
      "\u001b[36mCell\u001b[39m\u001b[36m \u001b[39m\u001b[32mIn[3]\u001b[39m\u001b[32m, line 62\u001b[39m\n\u001b[32m     56\u001b[39m         \u001b[38;5;28mprint\u001b[39m (df.head())\n\u001b[32m     57\u001b[39m         \u001b[38;5;28mprint\u001b[39m (df.shape())\n\u001b[32m---> \u001b[39m\u001b[32m62\u001b[39m \u001b[38;5;28;01mawait\u001b[39;00m main()\n",
      "\u001b[36mCell\u001b[39m\u001b[36m \u001b[39m\u001b[32mIn[3]\u001b[39m\u001b[32m, line 52\u001b[39m, in \u001b[36mmain\u001b[39m\u001b[34m()\u001b[39m\n\u001b[32m     50\u001b[39m all_json_files = glob.glob(\u001b[33m'\u001b[39m\u001b[33m./api_responses/*.json\u001b[39m\u001b[33m'\u001b[39m)\n\u001b[32m     51\u001b[39m \u001b[38;5;28mprint\u001b[39m(\u001b[33m\"\u001b[39m\u001b[38;5;132;01m{}\u001b[39;00m\u001b[33m JSON files found.\u001b[39m\u001b[33m\"\u001b[39m.format(\u001b[38;5;28mlen\u001b[39m(all_json_files)))\n\u001b[32m---> \u001b[39m\u001b[32m52\u001b[39m results=\u001b[38;5;28;01mawait\u001b[39;00m process_all_files(\u001b[33m\"\u001b[39m\u001b[33mall_stations.json\u001b[39m\u001b[33m\"\u001b[39m,all_json_files)\n\u001b[32m     53\u001b[39m \u001b[38;5;28;01mwith\u001b[39;00m \u001b[38;5;28mopen\u001b[39m(\u001b[33m'\u001b[39m\u001b[33mall_stations.json\u001b[39m\u001b[33m'\u001b[39m, \u001b[33m'\u001b[39m\u001b[33mr\u001b[39m\u001b[33m'\u001b[39m) \u001b[38;5;28;01mas\u001b[39;00m f:\n\u001b[32m     54\u001b[39m     data=json.load(f)\n",
      "\u001b[36mCell\u001b[39m\u001b[36m \u001b[39m\u001b[32mIn[3]\u001b[39m\u001b[32m, line 42\u001b[39m, in \u001b[36mprocess_all_files\u001b[39m\u001b[34m(files, output_file)\u001b[39m\n\u001b[32m     40\u001b[39m \u001b[38;5;250m\u001b[39m\u001b[33;03m\"\"\"Process all JSON files asynchronously.\"\"\"\u001b[39;00m\n\u001b[32m     41\u001b[39m tasks = [read_json_file(file) \u001b[38;5;28;01mfor\u001b[39;00m file \u001b[38;5;129;01min\u001b[39;00m files]\n\u001b[32m---> \u001b[39m\u001b[32m42\u001b[39m results = \u001b[38;5;28;01mawait\u001b[39;00m asyncio.gather(*tasks)\n\u001b[32m     43\u001b[39m all_results = [item \u001b[38;5;28;01mfor\u001b[39;00m sublist \u001b[38;5;129;01min\u001b[39;00m results \u001b[38;5;28;01mfor\u001b[39;00m item \u001b[38;5;129;01min\u001b[39;00m sublist]\n\u001b[32m     44\u001b[39m \u001b[38;5;28;01mawait\u001b[39;00m write_json_file(output_file, all_results)\n",
      "\u001b[36mCell\u001b[39m\u001b[36m \u001b[39m\u001b[32mIn[3]\u001b[39m\u001b[32m, line 5\u001b[39m, in \u001b[36mread_json_file\u001b[39m\u001b[34m(file)\u001b[39m\n\u001b[32m      3\u001b[39m \u001b[38;5;250m\u001b[39m\u001b[33;03m\"\"\"Read JSON files and extract required fields.\"\"\"\u001b[39;00m\n\u001b[32m      4\u001b[39m \u001b[38;5;28;01masync\u001b[39;00m \u001b[38;5;28;01mwith\u001b[39;00m semaphore:\n\u001b[32m----> \u001b[39m\u001b[32m5\u001b[39m     \u001b[38;5;28;01masync\u001b[39;00m \u001b[38;5;28;01mwith\u001b[39;00m aiofiles.open(file, \u001b[33m\"\u001b[39m\u001b[33mr\u001b[39m\u001b[33m\"\u001b[39m, encoding=\u001b[33m\"\u001b[39m\u001b[33mutf-8\u001b[39m\u001b[33m\"\u001b[39m) \u001b[38;5;28;01mas\u001b[39;00m f:\n\u001b[32m      6\u001b[39m         \u001b[38;5;28;01mtry\u001b[39;00m:\n\u001b[32m      7\u001b[39m             data = json.loads(\u001b[38;5;28;01mawait\u001b[39;00m f.read())\n",
      "\u001b[36mFile \u001b[39m\u001b[32m~/NOAA-NationalOceanicAtmospheric-BackendforFrontend/data_preprocess/.venv/lib/python3.12/site-packages/aiofiles/base.py:63\u001b[39m, in \u001b[36mAiofilesContextManager.__aenter__\u001b[39m\u001b[34m(self)\u001b[39m\n\u001b[32m     62\u001b[39m \u001b[38;5;28;01masync\u001b[39;00m \u001b[38;5;28;01mdef\u001b[39;00m\u001b[38;5;250m \u001b[39m\u001b[34m__aenter__\u001b[39m(\u001b[38;5;28mself\u001b[39m):\n\u001b[32m---> \u001b[39m\u001b[32m63\u001b[39m     \u001b[38;5;28;01mreturn\u001b[39;00m \u001b[38;5;28;01mawait\u001b[39;00m \u001b[38;5;28mself\u001b[39m\n",
      "\u001b[36mFile \u001b[39m\u001b[32m~/NOAA-NationalOceanicAtmospheric-BackendforFrontend/data_preprocess/.venv/lib/python3.12/site-packages/aiofiles/base.py:59\u001b[39m, in \u001b[36mAiofilesContextManager.__await__\u001b[39m\u001b[34m(self)\u001b[39m\n\u001b[32m     57\u001b[39m \u001b[38;5;28;01mdef\u001b[39;00m\u001b[38;5;250m \u001b[39m\u001b[34m__await__\u001b[39m(\u001b[38;5;28mself\u001b[39m):\n\u001b[32m     58\u001b[39m     \u001b[38;5;28;01mif\u001b[39;00m \u001b[38;5;28mself\u001b[39m._obj \u001b[38;5;129;01mis\u001b[39;00m \u001b[38;5;28;01mNone\u001b[39;00m:\n\u001b[32m---> \u001b[39m\u001b[32m59\u001b[39m         \u001b[38;5;28mself\u001b[39m._obj = \u001b[38;5;28;01myield from\u001b[39;00m \u001b[38;5;28mself\u001b[39m._coro.\u001b[34m__await__\u001b[39m()\n\u001b[32m     60\u001b[39m     \u001b[38;5;28;01mreturn\u001b[39;00m \u001b[38;5;28mself\u001b[39m._obj\n",
      "\u001b[36mFile \u001b[39m\u001b[32m~/NOAA-NationalOceanicAtmospheric-BackendforFrontend/data_preprocess/.venv/lib/python3.12/site-packages/aiofiles/threadpool/__init__.py:92\u001b[39m, in \u001b[36m_open\u001b[39m\u001b[34m(file, mode, buffering, encoding, errors, newline, closefd, opener, loop, executor)\u001b[39m\n\u001b[32m     80\u001b[39m     loop = asyncio.get_running_loop()\n\u001b[32m     81\u001b[39m cb = partial(\n\u001b[32m     82\u001b[39m     sync_open,\n\u001b[32m     83\u001b[39m     file,\n\u001b[32m   (...)\u001b[39m\u001b[32m     90\u001b[39m     opener=opener,\n\u001b[32m     91\u001b[39m )\n\u001b[32m---> \u001b[39m\u001b[32m92\u001b[39m f = \u001b[38;5;28;01mawait\u001b[39;00m loop.run_in_executor(executor, cb)\n\u001b[32m     94\u001b[39m \u001b[38;5;28;01mreturn\u001b[39;00m wrap(f, loop=loop, executor=executor)\n",
      "\u001b[36mFile \u001b[39m\u001b[32m/usr/lib/python3.12/concurrent/futures/thread.py:58\u001b[39m, in \u001b[36m_WorkItem.run\u001b[39m\u001b[34m(self)\u001b[39m\n\u001b[32m     55\u001b[39m     \u001b[38;5;28;01mreturn\u001b[39;00m\n\u001b[32m     57\u001b[39m \u001b[38;5;28;01mtry\u001b[39;00m:\n\u001b[32m---> \u001b[39m\u001b[32m58\u001b[39m     result = \u001b[38;5;28;43mself\u001b[39;49m\u001b[43m.\u001b[49m\u001b[43mfn\u001b[49m\u001b[43m(\u001b[49m\u001b[43m*\u001b[49m\u001b[38;5;28;43mself\u001b[39;49m\u001b[43m.\u001b[49m\u001b[43margs\u001b[49m\u001b[43m,\u001b[49m\u001b[43m \u001b[49m\u001b[43m*\u001b[49m\u001b[43m*\u001b[49m\u001b[38;5;28;43mself\u001b[39;49m\u001b[43m.\u001b[49m\u001b[43mkwargs\u001b[49m\u001b[43m)\u001b[49m\n\u001b[32m     59\u001b[39m \u001b[38;5;28;01mexcept\u001b[39;00m \u001b[38;5;167;01mBaseException\u001b[39;00m \u001b[38;5;28;01mas\u001b[39;00m exc:\n\u001b[32m     60\u001b[39m     \u001b[38;5;28mself\u001b[39m.future.set_exception(exc)\n",
      "\u001b[31mFileNotFoundError\u001b[39m: [Errno 2] No such file or directory: 'a'"
     ]
    }
   ],
   "source": [
    "semaphore = asyncio.Semaphore(50)\n",
    "async def read_json_file(file):\n",
    "    \"\"\"Read JSON files and extract required fields.\"\"\"\n",
    "    async with semaphore:\n",
    "        async with aiofiles.open(file, \"r\", encoding=\"utf-8\") as f:\n",
    "            try:\n",
    "                data = json.loads(await f.read())\n",
    "                try:\n",
    "                    results=data.get(\"results\", [])\n",
    "                    # processed_data = []\n",
    "                    # for res in results:\n",
    "                    #     try:\n",
    "                    #         station_id = res[\"id\"]\n",
    "                    #         name = res[\"name\"]\n",
    "                    #         latitude = res[\"latitude\"]\n",
    "                    #         longitude = res[\"longitude\"]\n",
    "                    #         geom = f\"SRID=4326;POINT({longitude} {latitude})\"\n",
    "                    #         processed_data.append((station_id, name, geom, latitude, longitude))\n",
    "                    #     except KeyError:\n",
    "                    #         print(f\"⚠️ Missing fields in {file}: {res}\")\n",
    "                \n",
    "                    return results\n",
    "\n",
    "                except KeyError:\n",
    "                    print(f\"⚠️ Missing 'results' field in {file}\")\n",
    "                    return None\n",
    "\n",
    "            except json.JSONDecodeError:\n",
    "                print(f\"❌ Error parsing {file}\")\n",
    "                return None\n",
    "async def write_json_file(file, data):\n",
    "    \"\"\"Write JSON files asynchronously.\"\"\"\n",
    "    async with semaphore:\n",
    "        async with aiofiles.open(file, \"w\", encoding=\"utf-8\") as f:\n",
    "            await f.write(json.dumps(data, indent=4, ensure_ascii=False))\n",
    "            print(f\"✅ {file} written.\")\n",
    "            return True\n",
    "\n",
    "async def process_all_files(files,output_file):\n",
    "    \"\"\"Process all JSON files asynchronously.\"\"\"\n",
    "    tasks = [read_json_file(file) for file in files]\n",
    "    results = await asyncio.gather(*tasks)\n",
    "    all_results = [item for sublist in results for item in sublist]\n",
    "    await write_json_file(output_file, all_results)\n",
    "    return all_results\n",
    "\n",
    "\n",
    "\n",
    "async def main():\n",
    "    all_json_files = glob.glob('./api_responses/*.json')\n",
    "    print(\"{} JSON files found.\".format(len(all_json_files)))\n",
    "    results=await process_all_files(\"all_stations.json\",all_json_files)\n",
    "    with open('all_stations.json', 'r') as f:\n",
    "        data=json.load(f)\n",
    "        df=pd.DataFrame(data)\n",
    "        print (df.head())\n",
    "        print (df.shape())\n",
    "    \n",
    "\n",
    "\n",
    "\n",
    "await main()\n"
   ]
  },
  {
   "cell_type": "code",
   "execution_count": null,
   "metadata": {},
   "outputs": [
    {
     "name": "stdout",
     "output_type": "stream",
     "text": [
      "GHCND:USC00094674\n"
     ]
    }
   ],
   "source": []
  },
  {
   "cell_type": "code",
   "execution_count": null,
   "metadata": {},
   "outputs": [
    {
     "name": "stdout",
     "output_type": "stream",
     "text": [
      "Fetching https://www.ncei.noaa.gov/cdo-web/api/v2/datatypes?limit=100&offset=0 with limit 100 and offset 0 for endpoint datatypes\n",
      "Fetching https://www.ncei.noaa.gov/cdo-web/api/v2/datatypes?limit=100&offset=100 with limit 100 and offset 100 for endpoint datatypes\n",
      "Fetching https://www.ncei.noaa.gov/cdo-web/api/v2/datatypes?limit=100&offset=200 with limit 100 and offset 200 for endpoint datatypes\n",
      "Fetching https://www.ncei.noaa.gov/cdo-web/api/v2/datatypes?limit=100&offset=300 with limit 100 and offset 300 for endpoint datatypes\n",
      "Fetching https://www.ncei.noaa.gov/cdo-web/api/v2/datatypes?limit=100&offset=400 with limit 100 and offset 400 for endpoint datatypes\n",
      "Fetching https://www.ncei.noaa.gov/cdo-web/api/v2/datatypes?limit=100&offset=500 with limit 100 and offset 500 for endpoint datatypes\n",
      "Fetching https://www.ncei.noaa.gov/cdo-web/api/v2/datatypes?limit=100&offset=600 with limit 100 and offset 600 for endpoint datatypes\n",
      "Fetching https://www.ncei.noaa.gov/cdo-web/api/v2/datatypes?limit=100&offset=700 with limit 100 and offset 700 for endpoint datatypes\n",
      "Fetching https://www.ncei.noaa.gov/cdo-web/api/v2/datatypes?limit=100&offset=800 with limit 100 and offset 800 for endpoint datatypes\n",
      "Fetching https://www.ncei.noaa.gov/cdo-web/api/v2/datatypes?limit=100&offset=900 with limit 100 and offset 900 for endpoint datatypes\n",
      "Fetching https://www.ncei.noaa.gov/cdo-web/api/v2/datatypes?limit=100&offset=1000 with limit 100 and offset 1000 for endpoint datatypes\n",
      "Fetching https://www.ncei.noaa.gov/cdo-web/api/v2/datatypes?limit=100&offset=1100 with limit 100 and offset 1100 for endpoint datatypes\n",
      "Fetching https://www.ncei.noaa.gov/cdo-web/api/v2/datatypes?limit=100&offset=1200 with limit 100 and offset 1200 for endpoint datatypes\n",
      "Fetching https://www.ncei.noaa.gov/cdo-web/api/v2/datatypes?limit=100&offset=1300 with limit 100 and offset 1300 for endpoint datatypes\n",
      "Fetching https://www.ncei.noaa.gov/cdo-web/api/v2/datatypes?limit=100&offset=1400 with limit 100 and offset 1400 for endpoint datatypes\n",
      "Fetching https://www.ncei.noaa.gov/cdo-web/api/v2/datatypes?limit=100&offset=1500 with limit 100 and offset 1500 for endpoint datatypes\n"
     ]
    },
    {
     "ename": "NameError",
     "evalue": "name 'enndpoint' is not defined",
     "output_type": "error",
     "traceback": [
      "\u001b[31m---------------------------------------------------------------------------\u001b[39m",
      "\u001b[31mNameError\u001b[39m                                 Traceback (most recent call last)",
      "\u001b[36mCell\u001b[39m\u001b[36m \u001b[39m\u001b[32mIn[4]\u001b[39m\u001b[32m, line 36\u001b[39m\n\u001b[32m     33\u001b[39m offsets=[i \u001b[38;5;28;01mfor\u001b[39;00m i \u001b[38;5;129;01min\u001b[39;00m \u001b[38;5;28mrange\u001b[39m(\u001b[32m0\u001b[39m,\u001b[32m1566\u001b[39m,limit)]\n\u001b[32m     34\u001b[39m urls = [\u001b[33mf\u001b[39m\u001b[33m\"\u001b[39m\u001b[38;5;132;01m{\u001b[39;00mBASE_URL\u001b[38;5;132;01m}\u001b[39;00m\u001b[33m/\u001b[39m\u001b[38;5;132;01m{\u001b[39;00mendpoint\u001b[38;5;132;01m}\u001b[39;00m\u001b[33m?limit=\u001b[39m\u001b[38;5;132;01m{\u001b[39;00mlimit\u001b[38;5;132;01m}\u001b[39;00m\u001b[33m&offset=\u001b[39m\u001b[38;5;132;01m{\u001b[39;00moffset\u001b[38;5;132;01m}\u001b[39;00m\u001b[33m\"\u001b[39m \u001b[38;5;28;01mfor\u001b[39;00m endpoint \u001b[38;5;129;01min\u001b[39;00m endpoints \u001b[38;5;28;01mfor\u001b[39;00m offset \u001b[38;5;129;01min\u001b[39;00m offsets]\n\u001b[32m---> \u001b[39m\u001b[32m36\u001b[39m results=\u001b[38;5;28;01mawait\u001b[39;00m fetch_all(urls)\n",
      "\u001b[36mCell\u001b[39m\u001b[36m \u001b[39m\u001b[32mIn[4]\u001b[39m\u001b[32m, line 27\u001b[39m, in \u001b[36mfetch_all\u001b[39m\u001b[34m(urls)\u001b[39m\n\u001b[32m     25\u001b[39m \u001b[38;5;28;01masync\u001b[39;00m \u001b[38;5;28;01mwith\u001b[39;00m aiohttp.ClientSession() \u001b[38;5;28;01mas\u001b[39;00m session:\n\u001b[32m     26\u001b[39m     tasks = [fetch(session, url) \u001b[38;5;28;01mfor\u001b[39;00m url \u001b[38;5;129;01min\u001b[39;00m urls]\n\u001b[32m---> \u001b[39m\u001b[32m27\u001b[39m     \u001b[38;5;28;01mreturn\u001b[39;00m \u001b[38;5;28;01mawait\u001b[39;00m asyncio.gather(*tasks)\n",
      "\u001b[36mCell\u001b[39m\u001b[36m \u001b[39m\u001b[32mIn[4]\u001b[39m\u001b[32m, line 18\u001b[39m, in \u001b[36mfetch\u001b[39m\u001b[34m(session, url)\u001b[39m\n\u001b[32m     16\u001b[39m \u001b[38;5;28;01mtry\u001b[39;00m: \n\u001b[32m     17\u001b[39m     data=\u001b[38;5;28;01mawait\u001b[39;00m response.json()\n\u001b[32m---> \u001b[39m\u001b[32m18\u001b[39m     isWritten=\u001b[38;5;28;01mawait\u001b[39;00m write_json_file(\u001b[33mf\u001b[39m\u001b[33m\"\u001b[39m\u001b[33m./api_responses/\u001b[39m\u001b[38;5;132;01m{\u001b[39;00mendpoint\u001b[38;5;132;01m}\u001b[39;00m\u001b[33m/\u001b[39m\u001b[38;5;132;01m{\u001b[39;00m\u001b[43menndpoint\u001b[49m\u001b[38;5;132;01m}\u001b[39;00m\u001b[33m_\u001b[39m\u001b[38;5;132;01m{\u001b[39;00mlimit\u001b[38;5;132;01m}\u001b[39;00m\u001b[33m_\u001b[39m\u001b[38;5;132;01m{\u001b[39;00moffset\u001b[38;5;132;01m}\u001b[39;00m\u001b[33m.json\u001b[39m\u001b[33m\"\u001b[39m,data)\n\u001b[32m     19\u001b[39m     \u001b[38;5;28mprint\u001b[39m (\u001b[33mf\u001b[39m\u001b[33m\"\u001b[39m\u001b[33mWritten \u001b[39m\u001b[38;5;132;01m{\u001b[39;00misWritten\u001b[38;5;132;01m}\u001b[39;00m\u001b[33m\"\u001b[39m)\n\u001b[32m     20\u001b[39m     \u001b[38;5;28;01mreturn\u001b[39;00m data\n",
      "\u001b[31mNameError\u001b[39m: name 'enndpoint' is not defined"
     ]
    }
   ],
   "source": [
    "import aiohttp\n",
    "from datetime import date\n",
    "\n",
    "BASE_URL = \"https://www.ncei.noaa.gov/cdo-web/api/v2\"\n",
    "TOKEN=\"fYtUjDsUnAwZJHAUEwNpZMoktpvwRUIZ\"\n",
    "CONCURRENT_REQUESTS = 5  # Set your desired limit\n",
    "semaphore = asyncio.Semaphore(CONCURRENT_REQUESTS)\n",
    "async def fetch(session, url):\n",
    "    headers = {'Token': TOKEN}\n",
    "    limit=url.split(\"limit=\")[1].split(\"&\")[0]\n",
    "    offset=url.split(\"offset=\")[1]\n",
    "    endpoint=url.split(\"https://www.ncei.noaa.gov/cdo-web/api/v2/\")[1].split(\"?\")[0]\n",
    "    print (f\"Fetching {url} with limit {limit} and offset {offset} for endpoint {endpoint}\")\n",
    "    async with semaphore:\n",
    "        async with session.get(url,headers=headers) as response:\n",
    "            try: \n",
    "                data=await response.json()\n",
    "                isWritten=await write_json_file(f\"./api_responses/{endpoint}/{endpoint}_{limit}_{offset}.json\",data)\n",
    "                print (f\"Written {isWritten}\")\n",
    "                return data\n",
    "            except aiohttp.client_exceptions.ContentTypeError:\n",
    "                print(f\"❌ Error fetching {url}\")\n",
    "                return None\n",
    "async def fetch_all(urls):\n",
    "    async with aiohttp.ClientSession() as session:\n",
    "        tasks = [fetch(session, url) for url in urls]\n",
    "        return await asyncio.gather(*tasks)\n",
    "\n",
    "\n",
    "from datetime import datetime\n",
    "endpoints=[\"datatypes\"]\n",
    "limit=100\n",
    "offsets=[i for i in range(0,1566,limit)]\n",
    "urls = [f\"{BASE_URL}/{endpoint}?limit={limit}&offset={offset}\" for endpoint in endpoints for offset in offsets]\n",
    "\n",
    "results=await fetch_all(urls)\n",
    "\n",
    "\n",
    "\n",
    "\n"
   ]
  },
  {
   "cell_type": "code",
   "execution_count": null,
   "metadata": {},
   "outputs": [
    {
     "name": "stdout",
     "output_type": "stream",
     "text": [
      "[{'metadata': {'resultset': {'offset': 1, 'count': 35014905, 'limit': 100}}, 'results': [{'date': '2024-03-12T00:00:00', 'datatype': 'PRCP', 'station': 'GHCND:AE000041196', 'attributes': 'D,,S,', 'value': 0}, {'date': '2024-03-12T00:00:00', 'datatype': 'TAVG', 'station': 'GHCND:AE000041196', 'attributes': 'H,,S,', 'value': 230}, {'date': '2024-03-12T00:00:00', 'datatype': 'TMAX', 'station': 'GHCND:AE000041196', 'attributes': ',,S,', 'value': 264}, {'date': '2024-03-12T00:00:00', 'datatype': 'PRCP', 'station': 'GHCND:AEM00041194', 'attributes': ',,S,', 'value': 0}, {'date': '2024-03-12T00:00:00', 'datatype': 'TAVG', 'station': 'GHCND:AEM00041194', 'attributes': 'H,,S,', 'value': 238}, {'date': '2024-03-12T00:00:00', 'datatype': 'TMAX', 'station': 'GHCND:AEM00041194', 'attributes': ',,S,', 'value': 264}, {'date': '2024-03-12T00:00:00', 'datatype': 'TAVG', 'station': 'GHCND:AEM00041217', 'attributes': 'H,,S,', 'value': 233}, {'date': '2024-03-12T00:00:00', 'datatype': 'TMAX', 'station': 'GHCND:AEM00041217', 'attributes': ',,S,', 'value': 267}, {'date': '2024-03-12T00:00:00', 'datatype': 'TAVG', 'station': 'GHCND:AEM00041218', 'attributes': 'H,,S,', 'value': 227}, {'date': '2024-03-12T00:00:00', 'datatype': 'TMAX', 'station': 'GHCND:AEM00041218', 'attributes': ',,S,', 'value': 276}, {'date': '2024-03-12T00:00:00', 'datatype': 'TAVG', 'station': 'GHCND:AG000060390', 'attributes': 'H,,S,', 'value': 126}, {'date': '2024-03-12T00:00:00', 'datatype': 'PRCP', 'station': 'GHCND:AG000060590', 'attributes': ',,S,', 'value': 0}, {'date': '2024-03-12T00:00:00', 'datatype': 'TAVG', 'station': 'GHCND:AG000060590', 'attributes': 'H,,S,', 'value': 157}, {'date': '2024-03-12T00:00:00', 'datatype': 'TMAX', 'station': 'GHCND:AG000060590', 'attributes': ',,S,', 'value': 232}, {'date': '2024-03-12T00:00:00', 'datatype': 'TMIN', 'station': 'GHCND:AG000060590', 'attributes': ',,S,', 'value': 79}, {'date': '2024-03-12T00:00:00', 'datatype': 'PRCP', 'station': 'GHCND:AG000060611', 'attributes': ',,S,', 'value': 0}, {'date': '2024-03-12T00:00:00', 'datatype': 'TAVG', 'station': 'GHCND:AG000060611', 'attributes': 'H,,S,', 'value': 186}, {'date': '2024-03-12T00:00:00', 'datatype': 'TMAX', 'station': 'GHCND:AG000060611', 'attributes': ',,S,', 'value': 263}, {'date': '2024-03-12T00:00:00', 'datatype': 'TMIN', 'station': 'GHCND:AG000060611', 'attributes': ',,S,', 'value': 120}, {'date': '2024-03-12T00:00:00', 'datatype': 'TAVG', 'station': 'GHCND:AGE00147708', 'attributes': 'H,,S,', 'value': 141}, {'date': '2024-03-12T00:00:00', 'datatype': 'TMAX', 'station': 'GHCND:AGE00147708', 'attributes': ',,S,', 'value': 191}, {'date': '2024-03-12T00:00:00', 'datatype': 'TMIN', 'station': 'GHCND:AGE00147708', 'attributes': ',,S,', 'value': 74}, {'date': '2024-03-12T00:00:00', 'datatype': 'PRCP', 'station': 'GHCND:AGE00147716', 'attributes': ',,S,', 'value': 0}, {'date': '2024-03-12T00:00:00', 'datatype': 'TAVG', 'station': 'GHCND:AGE00147716', 'attributes': 'H,,S,', 'value': 153}, {'date': '2024-03-12T00:00:00', 'datatype': 'TMAX', 'station': 'GHCND:AGE00147716', 'attributes': ',,S,', 'value': 182}, {'date': '2024-03-12T00:00:00', 'datatype': 'TMIN', 'station': 'GHCND:AGE00147716', 'attributes': ',,S,', 'value': 89}, {'date': '2024-03-12T00:00:00', 'datatype': 'PRCP', 'station': 'GHCND:AGE00147718', 'attributes': ',,S,', 'value': 0}, {'date': '2024-03-12T00:00:00', 'datatype': 'TAVG', 'station': 'GHCND:AGE00147718', 'attributes': 'H,,S,', 'value': 164}, {'date': '2024-03-12T00:00:00', 'datatype': 'TMAX', 'station': 'GHCND:AGE00147718', 'attributes': ',,S,', 'value': 230}, {'date': '2024-03-12T00:00:00', 'datatype': 'TAVG', 'station': 'GHCND:AGE00147719', 'attributes': 'H,,S,', 'value': 121}, {'date': '2024-03-12T00:00:00', 'datatype': 'TMAX', 'station': 'GHCND:AGE00147719', 'attributes': ',,S,', 'value': 186}, {'date': '2024-03-12T00:00:00', 'datatype': 'PRCP', 'station': 'GHCND:AGM00060351', 'attributes': ',,S,', 'value': 0}, {'date': '2024-03-12T00:00:00', 'datatype': 'TAVG', 'station': 'GHCND:AGM00060351', 'attributes': 'H,,S,', 'value': 131}, {'date': '2024-03-12T00:00:00', 'datatype': 'PRCP', 'station': 'GHCND:AGM00060355', 'attributes': ',,S,', 'value': 61}, {'date': '2024-03-12T00:00:00', 'datatype': 'TAVG', 'station': 'GHCND:AGM00060355', 'attributes': 'H,,S,', 'value': 159}, {'date': '2024-03-12T00:00:00', 'datatype': 'PRCP', 'station': 'GHCND:AGM00060360', 'attributes': ',,S,', 'value': 20}, {'date': '2024-03-12T00:00:00', 'datatype': 'TAVG', 'station': 'GHCND:AGM00060360', 'attributes': 'H,,S,', 'value': 129}, {'date': '2024-03-12T00:00:00', 'datatype': 'TMAX', 'station': 'GHCND:AGM00060360', 'attributes': ',,S,', 'value': 189}, {'date': '2024-03-12T00:00:00', 'datatype': 'TAVG', 'station': 'GHCND:AGM00060369', 'attributes': 'H,,S,', 'value': 159}, {'date': '2024-03-12T00:00:00', 'datatype': 'PRCP', 'station': 'GHCND:AGM00060402', 'attributes': ',,S,', 'value': 20}, {'date': '2024-03-12T00:00:00', 'datatype': 'TAVG', 'station': 'GHCND:AGM00060402', 'attributes': 'H,,S,', 'value': 127}, {'date': '2024-03-12T00:00:00', 'datatype': 'TMAX', 'station': 'GHCND:AGM00060402', 'attributes': ',,S,', 'value': 198}, {'date': '2024-03-12T00:00:00', 'datatype': 'TMIN', 'station': 'GHCND:AGM00060402', 'attributes': ',,S,', 'value': 83}, {'date': '2024-03-12T00:00:00', 'datatype': 'PRCP', 'station': 'GHCND:AGM00060403', 'attributes': ',,S,', 'value': 5}, {'date': '2024-03-12T00:00:00', 'datatype': 'TAVG', 'station': 'GHCND:AGM00060403', 'attributes': 'H,,S,', 'value': 126}, {'date': '2024-03-12T00:00:00', 'datatype': 'TMAX', 'station': 'GHCND:AGM00060403', 'attributes': ',,S,', 'value': 176}, {'date': '2024-03-12T00:00:00', 'datatype': 'PRCP', 'station': 'GHCND:AGM00060419', 'attributes': ',,S,', 'value': 3}, {'date': '2024-03-12T00:00:00', 'datatype': 'TAVG', 'station': 'GHCND:AGM00060419', 'attributes': 'H,,S,', 'value': 81}, {'date': '2024-03-12T00:00:00', 'datatype': 'TMIN', 'station': 'GHCND:AGM00060419', 'attributes': ',,S,', 'value': 21}, {'date': '2024-03-12T00:00:00', 'datatype': 'PRCP', 'station': 'GHCND:AGM00060421', 'attributes': ',,S,', 'value': 0}, {'date': '2024-03-12T00:00:00', 'datatype': 'TAVG', 'station': 'GHCND:AGM00060421', 'attributes': 'H,,S,', 'value': 90}, {'date': '2024-03-12T00:00:00', 'datatype': 'TMAX', 'station': 'GHCND:AGM00060421', 'attributes': ',,S,', 'value': 140}, {'date': '2024-03-12T00:00:00', 'datatype': 'TMIN', 'station': 'GHCND:AGM00060421', 'attributes': ',,S,', 'value': 19}, {'date': '2024-03-12T00:00:00', 'datatype': 'PRCP', 'station': 'GHCND:AGM00060423', 'attributes': ',,S,', 'value': 3}, {'date': '2024-03-12T00:00:00', 'datatype': 'TAVG', 'station': 'GHCND:AGM00060423', 'attributes': 'H,,S,', 'value': 94}, {'date': '2024-03-12T00:00:00', 'datatype': 'TMAX', 'station': 'GHCND:AGM00060423', 'attributes': ',,S,', 'value': 133}, {'date': '2024-03-12T00:00:00', 'datatype': 'TMIN', 'station': 'GHCND:AGM00060423', 'attributes': ',,S,', 'value': 34}, {'date': '2024-03-12T00:00:00', 'datatype': 'PRCP', 'station': 'GHCND:AGM00060425', 'attributes': ',,S,', 'value': 3}, {'date': '2024-03-12T00:00:00', 'datatype': 'TAVG', 'station': 'GHCND:AGM00060425', 'attributes': 'H,,S,', 'value': 127}, {'date': '2024-03-12T00:00:00', 'datatype': 'TMAX', 'station': 'GHCND:AGM00060425', 'attributes': ',,S,', 'value': 203}, {'date': '2024-03-12T00:00:00', 'datatype': 'TMIN', 'station': 'GHCND:AGM00060425', 'attributes': ',,S,', 'value': 69}, {'date': '2024-03-12T00:00:00', 'datatype': 'PRCP', 'station': 'GHCND:AGM00060430', 'attributes': ',,S,', 'value': 0}, {'date': '2024-03-12T00:00:00', 'datatype': 'TAVG', 'station': 'GHCND:AGM00060430', 'attributes': 'H,,S,', 'value': 127}, {'date': '2024-03-12T00:00:00', 'datatype': 'TMAX', 'station': 'GHCND:AGM00060430', 'attributes': ',,S,', 'value': 181}, {'date': '2024-03-12T00:00:00', 'datatype': 'TMIN', 'station': 'GHCND:AGM00060430', 'attributes': ',,S,', 'value': 42}, {'date': '2024-03-12T00:00:00', 'datatype': 'PRCP', 'station': 'GHCND:AGM00060437', 'attributes': ',,S,', 'value': 3}, {'date': '2024-03-12T00:00:00', 'datatype': 'TAVG', 'station': 'GHCND:AGM00060437', 'attributes': 'H,,S,', 'value': 97}, {'date': '2024-03-12T00:00:00', 'datatype': 'TMAX', 'station': 'GHCND:AGM00060437', 'attributes': ',,S,', 'value': 147}, {'date': '2024-03-12T00:00:00', 'datatype': 'TMIN', 'station': 'GHCND:AGM00060437', 'attributes': ',,S,', 'value': 41}, {'date': '2024-03-12T00:00:00', 'datatype': 'TAVG', 'station': 'GHCND:AGM00060444', 'attributes': 'H,,S,', 'value': 137}, {'date': '2024-03-12T00:00:00', 'datatype': 'TMAX', 'station': 'GHCND:AGM00060444', 'attributes': ',,S,', 'value': 161}, {'date': '2024-03-12T00:00:00', 'datatype': 'PRCP', 'station': 'GHCND:AGM00060445', 'attributes': ',,S,', 'value': 0}, {'date': '2024-03-12T00:00:00', 'datatype': 'TAVG', 'station': 'GHCND:AGM00060445', 'attributes': 'H,,S,', 'value': 66}, {'date': '2024-03-12T00:00:00', 'datatype': 'TMAX', 'station': 'GHCND:AGM00060445', 'attributes': ',,S,', 'value': 132}, {'date': '2024-03-12T00:00:00', 'datatype': 'TMIN', 'station': 'GHCND:AGM00060445', 'attributes': ',,S,', 'value': 11}, {'date': '2024-03-12T00:00:00', 'datatype': 'PRCP', 'station': 'GHCND:AGM00060452', 'attributes': ',,S,', 'value': 0}, {'date': '2024-03-12T00:00:00', 'datatype': 'TAVG', 'station': 'GHCND:AGM00060452', 'attributes': 'H,,S,', 'value': 146}, {'date': '2024-03-12T00:00:00', 'datatype': 'TMAX', 'station': 'GHCND:AGM00060452', 'attributes': ',,S,', 'value': 195}, {'date': '2024-03-12T00:00:00', 'datatype': 'TMIN', 'station': 'GHCND:AGM00060452', 'attributes': ',,S,', 'value': 106}, {'date': '2024-03-12T00:00:00', 'datatype': 'PRCP', 'station': 'GHCND:AGM00060457', 'attributes': ',,S,', 'value': 0}, {'date': '2024-03-12T00:00:00', 'datatype': 'TAVG', 'station': 'GHCND:AGM00060457', 'attributes': 'H,,S,', 'value': 151}, {'date': '2024-03-12T00:00:00', 'datatype': 'TMAX', 'station': 'GHCND:AGM00060457', 'attributes': ',,S,', 'value': 214}, {'date': '2024-03-12T00:00:00', 'datatype': 'TMIN', 'station': 'GHCND:AGM00060457', 'attributes': ',,S,', 'value': 48}, {'date': '2024-03-12T00:00:00', 'datatype': 'PRCP', 'station': 'GHCND:AGM00060461', 'attributes': ',,S,', 'value': 0}, {'date': '2024-03-12T00:00:00', 'datatype': 'TAVG', 'station': 'GHCND:AGM00060461', 'attributes': 'H,,S,', 'value': 151}, {'date': '2024-03-12T00:00:00', 'datatype': 'TMIN', 'station': 'GHCND:AGM00060461', 'attributes': ',,S,', 'value': 108}, {'date': '2024-03-12T00:00:00', 'datatype': 'PRCP', 'station': 'GHCND:AGM00060467', 'attributes': ',,S,', 'value': 0}, {'date': '2024-03-12T00:00:00', 'datatype': 'TAVG', 'station': 'GHCND:AGM00060467', 'attributes': 'H,,S,', 'value': 139}, {'date': '2024-03-12T00:00:00', 'datatype': 'TMAX', 'station': 'GHCND:AGM00060467', 'attributes': ',,S,', 'value': 196}, {'date': '2024-03-12T00:00:00', 'datatype': 'TMIN', 'station': 'GHCND:AGM00060467', 'attributes': ',,S,', 'value': 50}, {'date': '2024-03-12T00:00:00', 'datatype': 'PRCP', 'station': 'GHCND:AGM00060468', 'attributes': ',,S,', 'value': 0}, {'date': '2024-03-12T00:00:00', 'datatype': 'TAVG', 'station': 'GHCND:AGM00060468', 'attributes': 'H,,S,', 'value': 75}, {'date': '2024-03-12T00:00:00', 'datatype': 'TMAX', 'station': 'GHCND:AGM00060468', 'attributes': ',,S,', 'value': 152}, {'date': '2024-03-12T00:00:00', 'datatype': 'TMIN', 'station': 'GHCND:AGM00060468', 'attributes': ',,S,', 'value': 3}, {'date': '2024-03-12T00:00:00', 'datatype': 'PRCP', 'station': 'GHCND:AGM00060475', 'attributes': ',,S,', 'value': 0}, {'date': '2024-03-12T00:00:00', 'datatype': 'TAVG', 'station': 'GHCND:AGM00060475', 'attributes': 'H,,S,', 'value': 93}, {'date': '2024-03-12T00:00:00', 'datatype': 'TMAX', 'station': 'GHCND:AGM00060475', 'attributes': ',,S,', 'value': 159}, {'date': '2024-03-12T00:00:00', 'datatype': 'TMIN', 'station': 'GHCND:AGM00060475', 'attributes': ',,S,', 'value': 40}, {'date': '2024-03-12T00:00:00', 'datatype': 'PRCP', 'station': 'GHCND:AGM00060490', 'attributes': ',,S,', 'value': 0}, {'date': '2024-03-12T00:00:00', 'datatype': 'TAVG', 'station': 'GHCND:AGM00060490', 'attributes': 'H,,S,', 'value': 129}]}]\n"
     ]
    }
   ],
   "source": [
    "from dateutil.relativedelta import relativedelta\n",
    "urls=[]\n",
    "with open('datasets.json', 'r') as f:\n",
    "    data=json.load(f)\n",
    "    datasets=[d for d in data['results']]\n",
    "    for d in datasets:\n",
    "        enddate=d['maxdate']\n",
    "        date_obj=datetime.strptime(enddate, \"%Y-%m-%d\").date()\n",
    "        startdate=date_obj-relativedelta(years=1)\n",
    "        urls.append(f\"{BASE_URL}/data?datasetid={d['id']}&startdate={startdate}&enddate={enddate}\")\n",
    "\n",
    "\n",
    "\n",
    "results=await fetch_all(urls[:1])\n",
    "counts=[0:100:]\n"
   ]
  }
 ],
 "metadata": {
  "kernelspec": {
   "display_name": "Python 3 (ipykernel)",
   "language": "python",
   "name": "python3"
  },
  "language_info": {
   "codemirror_mode": {
    "name": "ipython",
    "version": 3
   },
   "file_extension": ".py",
   "mimetype": "text/x-python",
   "name": "python",
   "nbconvert_exporter": "python",
   "pygments_lexer": "ipython3",
   "version": "3.12.3"
  }
 },
 "nbformat": 4,
 "nbformat_minor": 2
}
