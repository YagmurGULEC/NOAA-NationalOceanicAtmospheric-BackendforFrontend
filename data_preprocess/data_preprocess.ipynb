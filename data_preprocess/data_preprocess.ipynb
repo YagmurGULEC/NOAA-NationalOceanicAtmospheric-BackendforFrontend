{
 "cells": [
  {
   "cell_type": "code",
   "execution_count": 1,
   "metadata": {},
   "outputs": [],
   "source": [
    "\n",
    "import glob\n",
    "import json\n",
    "import csv\n",
    "import os\n",
    "import random\n"
   ]
  },
  {
   "cell_type": "code",
   "execution_count": 3,
   "metadata": {},
   "outputs": [
    {
     "name": "stdout",
     "output_type": "stream",
     "text": [
      "Requirement already satisfied: pandas in ./.venv/lib/python3.12/site-packages (2.2.3)\n",
      "Requirement already satisfied: aiofiles in ./.venv/lib/python3.12/site-packages (24.1.0)\n",
      "Requirement already satisfied: numpy>=1.26.0 in ./.venv/lib/python3.12/site-packages (from pandas) (2.2.4)\n",
      "Requirement already satisfied: python-dateutil>=2.8.2 in ./.venv/lib/python3.12/site-packages (from pandas) (2.9.0.post0)\n",
      "Requirement already satisfied: pytz>=2020.1 in ./.venv/lib/python3.12/site-packages (from pandas) (2025.1)\n",
      "Requirement already satisfied: tzdata>=2022.7 in ./.venv/lib/python3.12/site-packages (from pandas) (2025.1)\n",
      "Requirement already satisfied: six>=1.5 in ./.venv/lib/python3.12/site-packages (from python-dateutil>=2.8.2->pandas) (1.17.0)\n"
     ]
    }
   ],
   "source": [
    "! pip install pandas aiofiles"
   ]
  },
  {
   "cell_type": "code",
   "execution_count": 7,
   "metadata": {},
   "outputs": [
    {
     "name": "stdout",
     "output_type": "stream",
     "text": [
      "Total records: 1989973\n"
     ]
    }
   ],
   "source": [
    "import asyncio\n",
    "import aiofiles\n",
    "import pandas as pd\n",
    "\n",
    "\n",
    "semaphore = asyncio.Semaphore(50)\n",
    "async def read_json_file(file):\n",
    "    \"\"\"Read JSON files and extract required fields asynchronously.\"\"\"\n",
    "    async with semaphore:\n",
    "        async with aiofiles.open(file, \"r\", encoding=\"utf-8\") as f:\n",
    "            try:\n",
    "                data = json.loads(await f.read())\n",
    "                return data.get(\"results\", [])  # Use get() to avoid KeyError\n",
    "            except json.JSONDecodeError:\n",
    "                print(f\"❌ Error parsing {file}\")\n",
    "                return []\n",
    "            \n",
    "async def write_jsonl(file, data):\n",
    "    \"\"\"Write JSON data in JSONL format asynchronously.\"\"\"\n",
    "    async with semaphore:\n",
    "        async with aiofiles.open(file, \"a\", encoding=\"utf-8\") as f:\n",
    "            await f.writelines(json.dumps(record) + \"\\n\" for record in data)\n",
    "\n",
    "DATATYPE=\"TAVG\"\n",
    "DATASET=\"GHCND\"  \n",
    "DATE=\"2024-03-18_2025-03-18\"\n",
    "OUTPUT_FILE_JSON=f\"{DATATYPE}_{DATASET}_{DATE}.jsonl\"\n",
    "OUTPUT_FILE_CSV=f\"{DATATYPE}_{DATASET}_{DATE}.csv\"\n",
    "# INPUT_DIR=f\"./data/{DATE}/{DATASET}/{DATATYPE}/\"\n",
    "INPUT_DIR=f\"./data/{DATASET}/{DATATYPE}/{DATE}/\"\n",
    "if os.path.exists(OUTPUT_FILE_JSON):\n",
    "    os.remove(OUTPUT_FILE_JSON)\n",
    "\n",
    "async def read_json_files():\n",
    " \n",
    "    all_json_files = glob.glob(f\"{INPUT_DIR}*.json\")\n",
    "    \n",
    "    tasks=[read_json_file(file) for file in all_json_files]\n",
    "    results = await asyncio.gather(*tasks)\n",
    "    flattened_results = [item for sublist in results for item in sublist]\n",
    "   \n",
    "    return  flattened_results\n",
    "    \n",
    "results=await read_json_files()\n",
    "print(f\"Total records: {len(results)}\")\n"
   ]
  },
  {
   "cell_type": "code",
   "execution_count": null,
   "metadata": {},
   "outputs": [],
   "source": [
    "#Write to jsonl asynchronously\n",
    "await write_jsonl(OUTPUT_FILE_JSON, results)\n"
   ]
  },
  {
   "cell_type": "code",
   "execution_count": null,
   "metadata": {},
   "outputs": [
    {
     "name": "stdout",
     "output_type": "stream",
     "text": [
      "(1989973, 5)\n",
      "(1989972, 5)\n"
     ]
    }
   ],
   "source": [
    "#Convert to CSV and check for duplicates\n",
    "df=pd.read_json(OUTPUT_FILE_JSON, lines=True)\n",
    "print (df.shape)\n",
    "#One extra line\n",
    "df.drop_duplicates(subset=['date','station'], keep='first', inplace=True)\n",
    "print (df.shape)"
   ]
  },
  {
   "cell_type": "code",
   "execution_count": 12,
   "metadata": {},
   "outputs": [],
   "source": [
    "df.to_csv(OUTPUT_FILE_CSV, index=False)\n"
   ]
  }
 ],
 "metadata": {
  "kernelspec": {
   "display_name": "Python 3 (ipykernel)",
   "language": "python",
   "name": "python3"
  },
  "language_info": {
   "codemirror_mode": {
    "name": "ipython",
    "version": 3
   },
   "file_extension": ".py",
   "mimetype": "text/x-python",
   "name": "python",
   "nbconvert_exporter": "python",
   "pygments_lexer": "ipython3",
   "version": "3.12.3"
  }
 },
 "nbformat": 4,
 "nbformat_minor": 2
}
